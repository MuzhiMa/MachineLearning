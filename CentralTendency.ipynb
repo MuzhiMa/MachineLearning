{
 "cells": [
  {
   "cell_type": "code",
   "execution_count": 127,
   "metadata": {},
   "outputs": [
    {
     "name": "stdout",
     "output_type": "stream",
     "text": [
      "                                     Mean    Median     Mode\n",
      "Information                                                 \n",
      "LIMIT_BAL                   167484.322667  140000.0  50000.0\n",
      "MARRIAGE                         1.551867       2.0      2.0\n",
      "AGE                             35.485500      34.0     29.0\n",
      "PAY_0                           -0.016700       0.0      0.0\n",
      "PAY_2                           -0.133767       0.0      0.0\n",
      "PAY_3                           -0.166200       0.0      0.0\n",
      "PAY_4                           -0.220667       0.0      0.0\n",
      "PAY_5                           -0.266200       0.0      0.0\n",
      "PAY_6                           -0.291100       0.0      0.0\n",
      "BILL_AMT1                    51223.330900   22381.5      0.0\n",
      "BILL_AMT2                    49179.075167   21200.0      0.0\n",
      "BILL_AMT3                    47013.154800   20088.5      0.0\n",
      "BILL_AMT4                    43262.948967   19052.0      0.0\n",
      "BILL_AMT5                    40311.400967   18104.5      0.0\n",
      "BILL_AMT6                    38871.760400   17071.0      0.0\n",
      "PAY_AMT1                      5663.580500    2100.0      0.0\n",
      "PAY_AMT2                      5921.163500    2009.0      0.0\n",
      "PAY_AMT3                      5225.681500    1800.0      0.0\n",
      "PAY_AMT4                      4826.076867    1500.0      0.0\n",
      "PAY_AMT5                      4799.387633    1500.0      0.0\n",
      "PAY_AMT6                      5215.502567    1500.0      0.0\n",
      "default payment next month       0.221200       0.0      0.0\n"
     ]
    }
   ],
   "source": [
    "import pandas as pd\n",
    "\n",
    "# Use \"credit card clients\" data in the UCI repository as the dataset to work on\n",
    "dataset = pd.read_csv('default of credit card clients.csv')\n",
    "\n",
    "# Manipulate the dataset\n",
    "dataset.drop(['Unnamed: 0','X2','X3'],axis=1,inplace=True)    # delete columns 'ID','Sex','Education',where central tendency has no meaning\n",
    "columns = dataset.iloc[0]\n",
    "columns.name = 'Information'\n",
    "dataset.columns = columns\n",
    "dataset.drop(index=0,inplace=True)\n",
    "dataset.index = range(len(dataset.index))\n",
    "dataset = dataset.astype(float)                               # convert data type from string to float\n",
    "\n",
    "# Use pandas to calculate mean, median and mode\n",
    "mean = dataset.mean()\n",
    "median = dataset.median()\n",
    "mode = dataset.mode().iloc[0]\n",
    "result = pd.DataFrame(list(zip(mean,median,mode)),index=mean.index,columns=['Mean','Median','Mode'])\n",
    "print(result)"
   ]
  }
 ],
 "metadata": {
  "kernelspec": {
   "display_name": "Python 3",
   "language": "python",
   "name": "python3"
  },
  "language_info": {
   "codemirror_mode": {
    "name": "ipython",
    "version": 3
   },
   "file_extension": ".py",
   "mimetype": "text/x-python",
   "name": "python",
   "nbconvert_exporter": "python",
   "pygments_lexer": "ipython3",
   "version": "3.7.4"
  }
 },
 "nbformat": 4,
 "nbformat_minor": 2
}
